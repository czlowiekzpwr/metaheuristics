{
 "cells": [
  {
   "cell_type": "code",
   "execution_count": 48,
   "metadata": {},
   "outputs": [],
   "source": [
    "import importlib\n",
    "import tsp_solution\n",
    "import tsprandom\n",
    "tsp_solution = importlib.reload(tsp_solution)"
   ]
  },
  {
   "cell_type": "code",
   "execution_count": 2,
   "metadata": {},
   "outputs": [],
   "source": [
    "# Create random problem\n",
    "prob = tsprandom.RandomTSProblem()"
   ]
  },
  {
   "cell_type": "code",
   "execution_count": 3,
   "metadata": {},
   "outputs": [],
   "source": [
    "# create random solution\n",
    "sol = tsp_solution.random_solution(20)"
   ]
  },
  {
   "cell_type": "code",
   "execution_count": 50,
   "metadata": {},
   "outputs": [
    {
     "name": "stdout",
     "output_type": "stream",
     "text": [
      "17844\n"
     ]
    }
   ],
   "source": [
    "# Find random solution by k_random\n",
    "rd1 = tsp_solution.k_random(sol, 50, prob)\n",
    "print(prob.getSolutionLength(rd1))"
   ]
  },
  {
   "cell_type": "code",
   "execution_count": 32,
   "metadata": {},
   "outputs": [
    {
     "name": "stdout",
     "output_type": "stream",
     "text": [
      "7710\n"
     ]
    }
   ],
   "source": [
    "rd2 = tsp_solution.nearliest_neightboor(3, prob)\n",
    "print(prob.getSolutionLength(rd2))"
   ]
  },
  {
   "cell_type": "code",
   "execution_count": 40,
   "metadata": {},
   "outputs": [
    {
     "name": "stdout",
     "output_type": "stream",
     "text": [
      "[3, 13, 1, 12, 4, 15, 8, 20, 2, 11, 5, 18, 16, 19, 14, 10, 17, 9, 7, 6]\n",
      "7710\n"
     ]
    }
   ],
   "source": [
    "rd3 = tsp_solution.better_nearliest_neightboor(prob)\n",
    "print(rd3)\n",
    "print(prob.getSolutionLength(rd3))"
   ]
  },
  {
   "cell_type": "code",
   "execution_count": 49,
   "metadata": {},
   "outputs": [
    {
     "name": "stdout",
     "output_type": "stream",
     "text": [
      "[ 3  5 16 18 19  2 11 20 15  8  4 12  1 14 10 17  9  7  6 13]\n",
      "9128\n"
     ]
    }
   ],
   "source": [
    "rd3 = tsp_solution.opt2(sol,prob)\n",
    "print(rd3)\n",
    "print(prob.getSolutionLength(rd3))"
   ]
  },
  {
   "cell_type": "code",
   "execution_count": 26,
   "metadata": {},
   "outputs": [
    {
     "name": "stdout",
     "output_type": "stream",
     "text": [
      "9039\n"
     ]
    }
   ],
   "source": [
    "print(prob.getSolutionLength([19, 18, 16, 5, 2, 11, 20, 12, 1, 3, 13, 9, 17, 10, 14, 4, 15, 8, 6, 7]))"
   ]
  },
  {
   "cell_type": "code",
   "execution_count": 52,
   "metadata": {},
   "outputs": [
    {
     "name": "stdout",
     "output_type": "stream",
     "text": [
      "[ 1  2  3  4  5  6  7  8  9 10 11 12 13 14 15 16 17 18 19 20]\n"
     ]
    }
   ],
   "source": [
    "#test sequential solution\n",
    "sol2 = tsp_solution.sequential(20)\n",
    "print(sol2)"
   ]
  },
  {
   "cell_type": "code",
   "execution_count": 61,
   "metadata": {},
   "outputs": [],
   "source": [
    "import tsploader\n",
    "problem2 = tsploader.load(\"data/berlin52.tsp\")"
   ]
  },
  {
   "cell_type": "code",
   "execution_count": null,
   "metadata": {},
   "outputs": [],
   "source": []
  }
 ],
 "metadata": {
  "interpreter": {
   "hash": "7bf3005f652126905f884b10c268edfd95227a36e7e795fe3d177e1b49de0100"
  },
  "kernelspec": {
   "display_name": "Python 3.9.7 ('heur')",
   "language": "python",
   "name": "python3"
  },
  "language_info": {
   "codemirror_mode": {
    "name": "ipython",
    "version": 3
   },
   "file_extension": ".py",
   "mimetype": "text/x-python",
   "name": "python",
   "nbconvert_exporter": "python",
   "pygments_lexer": "ipython3",
   "version": "3.9.7"
  },
  "orig_nbformat": 4
 },
 "nbformat": 4,
 "nbformat_minor": 2
}
